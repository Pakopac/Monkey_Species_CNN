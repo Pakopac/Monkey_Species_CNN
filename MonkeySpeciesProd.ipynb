{
  "nbformat": 4,
  "nbformat_minor": 0,
  "metadata": {
    "colab": {
      "name": "MonkeySpeciesProd.ipynb",
      "provenance": [],
      "collapsed_sections": [],
      "authorship_tag": "ABX9TyNMzcoCWWC94hb3Mbrpa1mx",
      "include_colab_link": true
    },
    "kernelspec": {
      "name": "python3",
      "display_name": "Python 3"
    },
    "language_info": {
      "name": "python"
    },
    "widgets": {
      "application/vnd.jupyter.widget-state+json": {
        "ba81018353554de89e2fa468b8ac5b5f": {
          "model_module": "@jupyter-widgets/controls",
          "model_name": "FileUploadModel",
          "model_module_version": "1.5.0",
          "state": {
            "_view_name": "FileUploadView",
            "_counter": 0,
            "style": "IPY_MODEL_9152eaeabc24497bbc47df07a1fdb0bb",
            "_dom_classes": [],
            "description": "Upload",
            "multiple": false,
            "_model_name": "FileUploadModel",
            "data": [
              null
            ],
            "button_style": "",
            "_view_module": "@jupyter-widgets/controls",
            "_model_module_version": "1.5.0",
            "accept": "",
            "_view_count": null,
            "disabled": false,
            "_view_module_version": "1.5.0",
            "error": "",
            "description_tooltip": null,
            "metadata": [
              {
                "name": "japanese.jpg",
                "type": "image/jpeg",
                "size": 39561,
                "lastModified": 1643107670369
              }
            ],
            "_model_module": "@jupyter-widgets/controls",
            "layout": "IPY_MODEL_2dac9cd587154f8d98631c279bed7f87",
            "icon": "upload"
          }
        },
        "9152eaeabc24497bbc47df07a1fdb0bb": {
          "model_module": "@jupyter-widgets/controls",
          "model_name": "ButtonStyleModel",
          "model_module_version": "1.5.0",
          "state": {
            "_view_name": "StyleView",
            "_model_name": "ButtonStyleModel",
            "_view_module": "@jupyter-widgets/base",
            "_model_module_version": "1.5.0",
            "_view_count": null,
            "button_color": null,
            "font_weight": "",
            "_view_module_version": "1.2.0",
            "_model_module": "@jupyter-widgets/controls"
          }
        },
        "2dac9cd587154f8d98631c279bed7f87": {
          "model_module": "@jupyter-widgets/base",
          "model_name": "LayoutModel",
          "model_module_version": "1.2.0",
          "state": {
            "_view_name": "LayoutView",
            "grid_template_rows": null,
            "right": null,
            "justify_content": null,
            "_view_module": "@jupyter-widgets/base",
            "overflow": null,
            "_model_module_version": "1.2.0",
            "_view_count": null,
            "flex_flow": null,
            "width": null,
            "min_width": null,
            "border": null,
            "align_items": null,
            "bottom": null,
            "_model_module": "@jupyter-widgets/base",
            "top": null,
            "grid_column": null,
            "overflow_y": null,
            "overflow_x": null,
            "grid_auto_flow": null,
            "grid_area": null,
            "grid_template_columns": null,
            "flex": null,
            "_model_name": "LayoutModel",
            "justify_items": null,
            "grid_row": null,
            "max_height": null,
            "align_content": null,
            "visibility": null,
            "align_self": null,
            "height": null,
            "min_height": null,
            "padding": null,
            "grid_auto_rows": null,
            "grid_gap": null,
            "max_width": null,
            "order": null,
            "_view_module_version": "1.2.0",
            "grid_template_areas": null,
            "object_position": null,
            "object_fit": null,
            "grid_auto_columns": null,
            "margin": null,
            "display": null,
            "left": null
          }
        }
      }
    }
  },
  "cells": [
    {
      "cell_type": "markdown",
      "metadata": {
        "id": "view-in-github",
        "colab_type": "text"
      },
      "source": [
        "<a href=\"https://colab.research.google.com/github/Pakopac/Monkey_Species_CNN/blob/master/MonkeySpeciesProd.ipynb\" target=\"_parent\"><img src=\"https://colab.research.google.com/assets/colab-badge.svg\" alt=\"Open In Colab\"/></a>"
      ]
    },
    {
      "cell_type": "markdown",
      "source": [
        "# Monkey Species Recognition CNN - PRODUCTION\n",
        "\n"
      ],
      "metadata": {
        "id": "BFClm_kQ3ivA"
      }
    },
    {
      "cell_type": "markdown",
      "source": [
        "Import libraries and directory"
      ],
      "metadata": {
        "id": "dVAZOjin3qyK"
      }
    },
    {
      "cell_type": "code",
      "source": [
        "import keras\n",
        "import pandas as pd\n",
        "import numpy as np"
      ],
      "metadata": {
        "id": "60eflKFl9gDZ"
      },
      "execution_count": 164,
      "outputs": []
    },
    {
      "cell_type": "code",
      "execution_count": 165,
      "metadata": {
        "colab": {
          "base_uri": "https://localhost:8080/"
        },
        "id": "avdJwvthzuWu",
        "outputId": "4a687a84-63ee-4814-bb48-faf5d4a705ce"
      },
      "outputs": [
        {
          "output_type": "stream",
          "name": "stdout",
          "text": [
            "Drive already mounted at /content/drive; to attempt to forcibly remount, call drive.mount(\"/content/drive\", force_remount=True).\n"
          ]
        }
      ],
      "source": [
        "from google.colab import drive\n",
        "drive.mount('/content/drive')\n",
        "data_dir = '/content/drive/MyDrive/Colab_Notebooks/monkey/'"
      ]
    },
    {
      "cell_type": "markdown",
      "source": [
        "Load model"
      ],
      "metadata": {
        "id": "P3NcZT_i336A"
      }
    },
    {
      "cell_type": "code",
      "source": [
        "model = keras.models.load_model(\"/content/drive/MyDrive/Colab_Notebooks/monkey/model_monkey.h5\")"
      ],
      "metadata": {
        "id": "EnoTSjOsz7Rv"
      },
      "execution_count": 166,
      "outputs": []
    },
    {
      "cell_type": "markdown",
      "source": [
        "Add button to upload image to test"
      ],
      "metadata": {
        "id": "HoUcBaPV36hS"
      }
    },
    {
      "cell_type": "code",
      "source": [
        "from ipywidgets import FileUpload\n",
        "\n",
        "def on_upload_change(change):\n",
        "    if not change.new:\n",
        "        return\n",
        "    up = change.owner\n",
        "    for filename,data in up.value.items():\n",
        "        with open(filename, 'wb') as f:\n",
        "            # add file content to data['content']\n",
        "            f.write(data['content'])\n",
        "    up.value.clear()\n",
        "    up._counter = 0\n",
        "\n",
        "# Define button\n",
        "upload_btn = FileUpload()\n",
        "# Check when add file after clicking button and call function\n",
        "upload_btn.observe(on_upload_change, names='_counter')\n",
        "upload_btn"
      ],
      "metadata": {
        "colab": {
          "base_uri": "https://localhost:8080/",
          "height": 49,
          "referenced_widgets": [
            "ba81018353554de89e2fa468b8ac5b5f",
            "9152eaeabc24497bbc47df07a1fdb0bb",
            "2dac9cd587154f8d98631c279bed7f87"
          ]
        },
        "id": "BQQzqnuPUys_",
        "outputId": "68a895e0-d905-413d-d5f5-4cb3a85e6909"
      },
      "execution_count": 167,
      "outputs": [
        {
          "output_type": "display_data",
          "data": {
            "application/vnd.jupyter.widget-view+json": {
              "model_id": "ba81018353554de89e2fa468b8ac5b5f",
              "version_minor": 0,
              "version_major": 2
            },
            "text/plain": [
              "FileUpload(value={}, description='Upload')"
            ]
          },
          "metadata": {}
        }
      ]
    },
    {
      "cell_type": "markdown",
      "source": [
        "Adapt image for our model"
      ],
      "metadata": {
        "id": "92w2868g5n_l"
      }
    },
    {
      "cell_type": "code",
      "source": [
        "import io\n",
        "from PIL import Image\n",
        "\n",
        "# Get image data\n",
        "upload_btn.data[0]\n",
        "\n",
        "for name, file_info in upload_btn.value.items():\n",
        "    # Convert into image\n",
        "    img = Image.open(io.BytesIO(file_info['content']))\n",
        "\n",
        "# Convert into array (60,60)\n",
        "image = img_to_array(img.resize((60, 60)))\n",
        "\n",
        "# Visualisation image with pyplot\n",
        "plt.imshow(image/255, interpolation='nearest')\n",
        "plt.show()\n",
        "\n",
        "# Reshape image for model\n",
        "image = image.reshape((1, image.shape[0], image.shape[1], image.shape[2]))"
      ],
      "metadata": {
        "colab": {
          "base_uri": "https://localhost:8080/",
          "height": 268
        },
        "id": "dMC9IFoHx_YC",
        "outputId": "f83726cb-b6c8-421d-aba5-912fe0703d87"
      },
      "execution_count": 168,
      "outputs": [
        {
          "output_type": "display_data",
          "data": {
            "image/png": "[encoded data removed]",
            "text/plain": [
              "<Figure size 432x288 with 1 Axes>"
            ]
          },
          "metadata": {
            "needs_background": "light"
          }
        }
      ]
    },
    {
      "cell_type": "markdown",
      "source": [
        "Get prediction"
      ],
      "metadata": {
        "id": "BSgcqV_o6pmG"
      }
    },
    {
      "cell_type": "code",
      "source": [
        "predictions = model.predict(image)\n",
        "predictions"
      ],
      "metadata": {
        "colab": {
          "base_uri": "https://localhost:8080/"
        },
        "id": "c1jO3GCS90lU",
        "outputId": "65b7b7d5-b111-498f-f278-24b4a347d4b3"
      },
      "execution_count": 169,
      "outputs": [
        {
          "output_type": "execute_result",
          "data": {
            "text/plain": [
              "array([[0., 0., 0., 1., 0., 0., 0., 0., 0., 0.]], dtype=float32)"
            ]
          },
          "metadata": {},
          "execution_count": 169
        }
      ]
    },
    {
      "cell_type": "code",
      "source": [
        "# Get result of prediction\n",
        "cols = ['Label','Latin Name', 'Common Name','Train Images', 'Validation Images']\n",
        "df = pd.read_csv(data_dir + \"monkey_labels.txt\", names=cols, skiprows=1)\n",
        "df[\"Common Name\"][np.argmax(predictions, axis = 1)]"
      ],
      "metadata": {
        "colab": {
          "base_uri": "https://localhost:8080/"
        },
        "id": "lL3EqMjB912H",
        "outputId": "d908b9fc-7b7f-4aef-a0f8-592634ab089a"
      },
      "execution_count": 170,
      "outputs": [
        {
          "output_type": "execute_result",
          "data": {
            "text/plain": [
              "3     japanese_macaque              \n",
              "Name: Common Name, dtype: object"
            ]
          },
          "metadata": {},
          "execution_count": 170
        }
      ]
    },
    {
      "cell_type": "code",
      "source": [
        ""
      ],
      "metadata": {
        "id": "VzJFEHw5xhw0"
      },
      "execution_count": null,
      "outputs": []
    }
  ]
}